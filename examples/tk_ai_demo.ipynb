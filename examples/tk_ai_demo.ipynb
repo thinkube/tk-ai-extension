{
 "cells": [
  {
   "cell_type": "markdown",
   "metadata": {},
   "source": [
    "# tk-ai-extension Demo Notebook\n",
    "\n",
    "This notebook demonstrates the capabilities of the `tk-ai-extension` for JupyterLab.\n",
    "\n",
    "## Features Demonstrated:\n",
    "1. Loading the extension\n",
    "2. Using `%%tk` magic commands\n",
    "3. Notebook analysis\n",
    "4. Cell inspection\n",
    "5. Code explanation"
   ]
  },
  {
   "cell_type": "markdown",
   "metadata": {},
   "source": [
    "## 1. Load the Extension\n",
    "\n",
    "First, load the tk-ai-extension (this may be auto-loaded in JupyterHub):"
   ]
  },
  {
   "cell_type": "code",
   "execution_count": null,
   "metadata": {},
   "outputs": [],
   "source": [
    "%load_ext tk_ai_extension"
   ]
  },
  {
   "cell_type": "markdown",
   "metadata": {},
   "source": [
    "## 2. Simple %%tk Magic Command\n",
    "\n",
    "Ask Claude to list notebooks in the current directory:"
   ]
  },
  {
   "cell_type": "code",
   "execution_count": null,
   "metadata": {},
   "outputs": [],
   "source": [
    "%%tk\n",
    "List all notebooks in the current directory"
   ]
  },
  {
   "cell_type": "markdown",
   "metadata": {},
   "source": [
    "## 3. Create Some Sample Data\n",
    "\n",
    "Let's create some data that Claude can analyze:"
   ]
  },
  {
   "cell_type": "code",
   "execution_count": null,
   "metadata": {},
   "outputs": [],
   "source": [
    "import pandas as pd\n",
    "import numpy as np\n",
    "\n",
    "# Create sample dataset\n",
    "np.random.seed(42)\n",
    "data = {\n",
    "    'name': ['Alice', 'Bob', 'Charlie', 'David', 'Eve'],\n",
    "    'age': [25, 30, 35, 40, 45],\n",
    "    'score': np.random.randint(60, 100, 5)\n",
    "}\n",
    "\n",
    "df = pd.DataFrame(data)\n",
    "print(df)"
   ]
  },
  {
   "cell_type": "markdown",
   "metadata": {},
   "source": [
    "## 4. Ask Claude to Explain Code\n",
    "\n",
    "Ask Claude to explain the previous cell:"
   ]
  },
  {
   "cell_type": "code",
   "execution_count": null,
   "metadata": {},
   "outputs": [],
   "source": [
    "%%tk\n",
    "Read the previous code cell in this notebook and explain:\n",
    "1. What libraries are being used\n",
    "2. What data is being created\n",
    "3. The purpose of np.random.seed(42)"
   ]
  },
  {
   "cell_type": "markdown",
   "metadata": {},
   "source": [
    "## 5. Complex Analysis Request\n",
    "\n",
    "Ask Claude to analyze all cells in this notebook:"
   ]
  },
  {
   "cell_type": "code",
   "execution_count": null,
   "metadata": {},
   "outputs": [],
   "source": [
    "%%tk\n",
    "Analyze this notebook:\n",
    "1. How many cells does it have?\n",
    "2. What is the main purpose?\n",
    "3. List all code cells that import libraries\n",
    "4. Summarize what this demo is showing"
   ]
  },
  {
   "cell_type": "markdown",
   "metadata": {},
   "source": [
    "## 6. Check Running Kernels\n",
    "\n",
    "Ask Claude about kernel status:"
   ]
  },
  {
   "cell_type": "code",
   "execution_count": null,
   "metadata": {},
   "outputs": [],
   "source": [
    "%%tk\n",
    "List all running kernels and tell me:\n",
    "1. How many kernels are active\n",
    "2. What kernel types are available\n",
    "3. The status of the current kernel"
   ]
  },
  {
   "cell_type": "markdown",
   "metadata": {},
   "source": [
    "## 7. Multi-Step Task\n",
    "\n",
    "Give Claude a complex multi-step task:"
   ]
  },
  {
   "cell_type": "code",
   "execution_count": null,
   "metadata": {},
   "outputs": [],
   "source": [
    "%%tk\n",
    "I want to understand this notebook better:\n",
    "1. First, list all the cells\n",
    "2. Then, identify which cells contain actual Python code (not magic commands)\n",
    "3. For each code cell, tell me what libraries it uses\n",
    "4. Finally, suggest one additional analysis I could add to this demo"
   ]
  },
  {
   "cell_type": "markdown",
   "metadata": {},
   "source": [
    "## Next Steps\n",
    "\n",
    "Try these yourself:\n",
    "\n",
    "1. **Explore your own notebooks:**\n",
    "   ```python\n",
    "   %%tk\n",
    "   Find all notebooks in my home directory and summarize what each one does\n",
    "   ```\n",
    "\n",
    "2. **Get code suggestions:**\n",
    "   ```python\n",
    "   %%tk\n",
    "   Look at cell 3 and suggest improvements to make the code more efficient\n",
    "   ```\n",
    "\n",
    "3. **Debug issues:**\n",
    "   ```python\n",
    "   %%tk\n",
    "   Read all cells in error_notebook.ipynb and identify which one is causing the error\n",
    "   ```\n",
    "\n",
    "4. **Learn from examples:**\n",
    "   ```python\n",
    "   %%tk\n",
    "   Find a cell that uses matplotlib and explain how the visualization works\n",
    "   ```"
   ]
  },
  {
   "cell_type": "markdown",
   "metadata": {},
   "source": [
    "## Tips\n",
    "\n",
    "- **Be specific**: Claude works best with clear, specific requests\n",
    "- **Use context**: Reference specific cells, notebooks, or files\n",
    "- **Multi-step is OK**: Claude can handle complex multi-step tasks\n",
    "- **Ask for explanations**: Claude can explain code, suggest improvements, and teach concepts\n",
    "\n",
    "## Available MCP Tools\n",
    "\n",
    "Behind the scenes, Claude uses these tools:\n",
    "- `list_notebooks` - Find all .ipynb files\n",
    "- `list_cells` - List cells in a notebook\n",
    "- `read_cell` - Read cell content and outputs\n",
    "- `execute_cell` - Execute cells (coming soon)\n",
    "- `list_kernels` - Check kernel status\n",
    "\n",
    "You can also use Claude Code CLI in the terminal with access to the same tools!"
   ]
  }
 ],
 "metadata": {
  "kernelspec": {
   "display_name": "Python 3",
   "language": "python",
   "name": "python3"
  },
  "language_info": {
   "codemirror_mode": {
    "name": "ipython",
    "version": 3
   },
   "file_extension": ".py",
   "mimetype": "text/x-python",
   "name": "python",
   "nbconvert_exporter": "python",
   "pygments_lexer": "ipython3",
   "version": "3.12.0"
  }
 },
 "nbformat": 4,
 "nbformat_minor": 4
}
